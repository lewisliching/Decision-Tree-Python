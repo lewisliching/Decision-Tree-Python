{
 "cells": [
  {
   "cell_type": "markdown",
   "metadata": {},
   "source": [
    "# The most recommended Language to learn in big data\n",
    "\n",
    "Problem statement: The most recommended Language to learn in respect of employment, industry and job title.\n",
    "Data: Survey 2017 of Kaggle\n",
    "Alogrithm: Decision Tree analysis (Gini Index)\n",
    "\n",
    "Lewis Li started from 22/Nov/2017"
   ]
  },
  {
   "cell_type": "markdown",
   "metadata": {},
   "source": [
    "Load csv data file into balance_data\n",
    "\n",
    "Print out length, shape and the 1st 5 observations for verification"
   ]
  },
  {
   "cell_type": "code",
   "execution_count": 1,
   "metadata": {},
   "outputs": [
    {
     "name": "stdout",
     "output_type": "stream",
     "text": [
      "Dataset Lenght::  8186\n",
      "Dataset Shape::  (8186, 4)\n",
      "Dataset :: \n",
      "         0  1  2  3\n",
      "0      F#  1  6  4\n",
      "1  Python  4  7  7\n",
      "2  Python  1  2  4\n",
      "3  Python  1  5  1\n",
      "4       R  1  2  3\n"
     ]
    }
   ],
   "source": [
    "import numpy as np\n",
    "import pandas as pd\n",
    "\n",
    "data = pd.read_csv('./working.csv', sep= ',', header= None)\n",
    "\n",
    "print (\"Dataset Lenght:: \", len(data))\n",
    "print (\"Dataset Shape:: \", data.shape)\n",
    "print (\"Dataset :: \\n\", data.head())"
   ]
  },
  {
   "cell_type": "markdown",
   "metadata": {},
   "source": [
    "Dataset slicing randomly into:\n",
    "\n",
    "1. Y = value & X = features\n",
    "2. Train dataset(70%) and Test dataset(30%)"
   ]
  },
  {
   "cell_type": "code",
   "execution_count": 2,
   "metadata": {},
   "outputs": [
    {
     "name": "stdout",
     "output_type": "stream",
     "text": [
      "[[1 10 1]\n",
      " [4 7 7]\n",
      " [1 6 4]\n",
      " ..., \n",
      " [1 10 7]\n",
      " [3 10 7]\n",
      " [1 5 4]]\n"
     ]
    },
    {
     "name": "stderr",
     "output_type": "stream",
     "text": [
      "C:\\Users\\Lewis Li\\Anaconda3\\lib\\site-packages\\sklearn\\cross_validation.py:41: DeprecationWarning: This module was deprecated in version 0.18 in favor of the model_selection module into which all the refactored classes and functions are moved. Also note that the interface of the new CV iterators are different from that of this module. This module will be removed in 0.20.\n",
      "  \"This module will be removed in 0.20.\", DeprecationWarning)\n"
     ]
    }
   ],
   "source": [
    "from sklearn.cross_validation import train_test_split\n",
    "\n",
    "X = data.values[:, 1:4] # 2nd - 4th columns 1-3 into X\n",
    "Y = data.values[:,0] # 1st column 0 into Y\n",
    "\n",
    "X_train, X_test, y_train, y_test = train_test_split( X, Y, test_size = 0.3, random_state = 100)\n",
    "\n",
    "print(X_train)"
   ]
  },
  {
   "cell_type": "markdown",
   "metadata": {},
   "source": [
    "Decision Tree training (Gini Index) by train dataset(70%)\n",
    "\n",
    "Print Decision Tree parameter for verification"
   ]
  },
  {
   "cell_type": "code",
   "execution_count": 3,
   "metadata": {},
   "outputs": [
    {
     "name": "stdout",
     "output_type": "stream",
     "text": [
      "DecisionTreeClassifier(class_weight=None, criterion='gini', max_depth=None,\n",
      "            max_features=None, max_leaf_nodes=None,\n",
      "            min_impurity_decrease=0.0, min_impurity_split=None,\n",
      "            min_samples_leaf=300, min_samples_split=2,\n",
      "            min_weight_fraction_leaf=0.0, presort=False, random_state=100,\n",
      "            splitter='best')\n"
     ]
    }
   ],
   "source": [
    "from sklearn.tree import DecisionTreeClassifier\n",
    "#max_depth=3,\n",
    "clf_gini = DecisionTreeClassifier(criterion = \"gini\", random_state = 100,  min_samples_leaf=500)\n",
    "clf_gini.fit(X_train, y_train)\n",
    "\n",
    "print(clf_gini)"
   ]
  },
  {
   "cell_type": "markdown",
   "metadata": {},
   "source": [
    "Test the Decision Tree by test dataset(30%)\n",
    "\n",
    "Calculate accuracy by comparing predicted value and actual value of test dataset"
   ]
  },
  {
   "cell_type": "code",
   "execution_count": 4,
   "metadata": {},
   "outputs": [
    {
     "name": "stdout",
     "output_type": "stream",
     "text": [
      "['Python' 'Python' 'Python' ..., 'Python' 'Python' 'Python']\n",
      "Accuracy is  62.825732899\n",
      "             precision    recall  f1-score   support\n",
      "\n",
      "   C/C++/C#       0.00      0.00      0.00        66\n",
      "         F#       0.00      0.00      0.00         1\n",
      "    Haskell       0.00      0.00      0.00         3\n",
      "       Java       0.00      0.00      0.00        27\n",
      "      Julia       0.00      0.00      0.00         6\n",
      "     Matlab       0.00      0.00      0.00        41\n",
      "      Other       0.00      0.00      0.00        19\n",
      "     Python       0.63      1.00      0.77      1543\n",
      "          R       0.00      0.00      0.00       598\n",
      "        SAS       0.00      0.00      0.00        20\n",
      "        SQL       0.00      0.00      0.00        98\n",
      "      Scala       0.00      0.00      0.00        28\n",
      "      Stata       0.00      0.00      0.00         6\n",
      "\n",
      "avg / total       0.39      0.63      0.48      2456\n",
      "\n"
     ]
    },
    {
     "name": "stderr",
     "output_type": "stream",
     "text": [
      "C:\\Users\\Lewis Li\\Anaconda3\\lib\\site-packages\\sklearn\\metrics\\classification.py:1135: UndefinedMetricWarning: Precision and F-score are ill-defined and being set to 0.0 in labels with no predicted samples.\n",
      "  'precision', 'predicted', average, warn_for)\n"
     ]
    }
   ],
   "source": [
    "from sklearn.metrics import accuracy_score, classification_report\n",
    "\n",
    "y_pred = clf_gini.predict(X_test)\n",
    "\n",
    "print(y_pred)\n",
    "\n",
    "print (\"Accuracy is \", accuracy_score(y_test,y_pred)*100)\n",
    "print (classification_report(y_test, y_pred))"
   ]
  },
  {
   "cell_type": "markdown",
   "metadata": {},
   "source": [
    "Visualization by graphviz\n",
    "\n",
    "Graphviz scripe of Decision Tree is generated and put into txt file. \n",
    "\n",
    "Decision Tree diagram is shown by copy & paste txt file to http://webgraphviz.com/\n"
   ]
  },
  {
   "cell_type": "code",
   "execution_count": 5,
   "metadata": {},
   "outputs": [
    {
     "name": "stdout",
     "output_type": "stream",
     "text": [
      "\n",
      "Decision Tree script is output to clf_gini.txt\n",
      "\n",
      "Generate Decision Tree diagram on web site: http://webgraphviz.com/\n"
     ]
    }
   ],
   "source": [
    "from sklearn import tree\n",
    "\n",
    "with open(\"clf_gini.txt\", \"w\") as f:\n",
    "    f = tree.export_graphviz(clf_gini, out_file=f, class_names=Y, filled=True)\n",
    "        \n",
    "print (\"\\nDecision Tree script is output to clf_gini.txt\")\n",
    "print (\"\\nGenerate Decision Tree diagram on web site: http://webgraphviz.com/\")"
   ]
  },
  {
   "cell_type": "code",
   "execution_count": null,
   "metadata": {},
   "outputs": [],
   "source": []
  }
 ],
 "metadata": {
  "kernelspec": {
   "display_name": "Python 3",
   "language": "python",
   "name": "python3"
  },
  "language_info": {
   "codemirror_mode": {
    "name": "ipython",
    "version": 3
   },
   "file_extension": ".py",
   "mimetype": "text/x-python",
   "name": "python",
   "nbconvert_exporter": "python",
   "pygments_lexer": "ipython3",
   "version": "3.6.3"
  }
 },
 "nbformat": 4,
 "nbformat_minor": 2
}
